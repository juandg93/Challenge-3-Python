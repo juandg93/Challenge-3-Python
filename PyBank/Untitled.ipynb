{
 "cells": [
  {
   "cell_type": "code",
   "execution_count": 10,
   "id": "1899ec8e",
   "metadata": {},
   "outputs": [],
   "source": [
    "import csv\n",
    "\n",
    "# Create a path to the budget_data.csv in the Resources folder\n",
    "csv_path = \"Resources/budget_data.csv\"\n",
    "\n",
    "# Initialize lists to store data\n",
    "dates = []\n",
    "profits_losses = []\n",
    "\n",
    "with open(csv_path, 'r') as csv_file:\n",
    "    csv_reader = csv.reader(csv_file)\n",
    "    \n",
    "    # Skip header row\n",
    "    next(csv_reader)\n",
    "    \n",
    "    for row in csv_reader:\n",
    "        dates.append(row[0])\n",
    "        profits_losses.append(int(row[1]))\n"
   ]
  },
  {
   "cell_type": "code",
   "execution_count": 11,
   "id": "83ba5ae7",
   "metadata": {},
   "outputs": [],
   "source": [
    "# The total number of months included in the dataset\n",
    "total_months = len(dates)\n",
    "total_profit_loss = sum(profits_losses)\n",
    "\n",
    "# The net total amount of \"Profit/Losses\" over the entire period\n",
    "changes = [profits_losses[i+1] - profits_losses[i] for i in range(len(profits_losses)-1)]\n",
    "average_change = sum(changes) / len(changes)\n",
    "\n",
    "greatest_increase = max(changes)\n",
    "greatest_increase_date = dates[changes.index(greatest_increase)+1]\n",
    "\n",
    "greatest_decrease = min(changes)\n",
    "greatest_decrease_date = dates[changes.index(greatest_decrease)+1]\n",
    "\n",
    "\n"
   ]
  },
  {
   "cell_type": "code",
   "execution_count": 12,
   "id": "7302e856",
   "metadata": {},
   "outputs": [
    {
     "name": "stdout",
     "output_type": "stream",
     "text": [
      "Financial Analysis\n",
      "----------------------------\n",
      "Total Months: 86\n",
      "Total: $22564198\n",
      "Average Change: $-8311.11\n",
      "Greatest Increase in Profits: Aug-16 ($1862002)\n",
      "Greatest Decrease in Profits: Feb-14 ($-1825558)\n"
     ]
    }
   ],
   "source": [
    "output = (\n",
    "    \"Financial Analysis\\n\"\n",
    "    \"----------------------------\\n\"\n",
    "    f\"Total Months: {total_months}\\n\"\n",
    "    f\"Total: ${total_profit_loss}\\n\"\n",
    "    f\"Average Change: ${average_change:.2f}\\n\"\n",
    "    f\"Greatest Increase in Profits: {greatest_increase_date} (${greatest_increase})\\n\"\n",
    "    f\"Greatest Decrease in Profits: {greatest_decrease_date} (${greatest_decrease})\"\n",
    ")\n",
    "\n",
    "print(output)\n",
    "\n",
    "with open(\"analysis/results.txt\", 'w') as txt_file:\n",
    "    txt_file.write(output)\n"
   ]
  },
  {
   "cell_type": "code",
   "execution_count": null,
   "id": "93195430",
   "metadata": {},
   "outputs": [],
   "source": []
  },
  {
   "cell_type": "code",
   "execution_count": null,
   "id": "6b3f7e77",
   "metadata": {},
   "outputs": [],
   "source": []
  },
  {
   "cell_type": "code",
   "execution_count": null,
   "id": "e3ffa18b",
   "metadata": {},
   "outputs": [],
   "source": []
  },
  {
   "cell_type": "code",
   "execution_count": null,
   "id": "b1767ae7",
   "metadata": {},
   "outputs": [],
   "source": []
  },
  {
   "cell_type": "code",
   "execution_count": null,
   "id": "3864bead",
   "metadata": {},
   "outputs": [],
   "source": []
  },
  {
   "cell_type": "code",
   "execution_count": null,
   "id": "0a9c19ea",
   "metadata": {},
   "outputs": [],
   "source": []
  }
 ],
 "metadata": {
  "kernelspec": {
   "display_name": "Python 3 (ipykernel)",
   "language": "python",
   "name": "python3"
  },
  "language_info": {
   "codemirror_mode": {
    "name": "ipython",
    "version": 3
   },
   "file_extension": ".py",
   "mimetype": "text/x-python",
   "name": "python",
   "nbconvert_exporter": "python",
   "pygments_lexer": "ipython3",
   "version": "3.11.4"
  }
 },
 "nbformat": 4,
 "nbformat_minor": 5
}
