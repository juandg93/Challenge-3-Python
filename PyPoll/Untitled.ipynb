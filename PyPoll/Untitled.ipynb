{
 "cells": [
  {
   "cell_type": "code",
   "execution_count": 5,
   "id": "319f44dc",
   "metadata": {},
   "outputs": [],
   "source": [
    "import csv\n",
    "\n",
    "# Adjust the path for the election_data.csv\n",
    "csv_path = \"Resources/election_data.csv\"\n",
    "\n",
    "candidates = []\n",
    "\n",
    "with open(csv_path, 'r') as csv_file:\n",
    "    csv_reader = csv.reader(csv_file)\n",
    "    \n",
    "    # Skip header row\n",
    "    next(csv_reader)\n",
    "    \n",
    "    for row in csv_reader:\n",
    "        candidates.append(row[2])\n",
    "\n",
    "\n",
    "\n"
   ]
  },
  {
   "cell_type": "code",
   "execution_count": 7,
   "id": "73bd944a",
   "metadata": {},
   "outputs": [],
   "source": [
    "total_votes = len(candidates)\n",
    "\n",
    "# Count votes for each candidate\n",
    "from collections import Counter\n",
    "votes_counter = Counter(candidates)\n",
    "\n",
    "# Determine the winner\n",
    "winner = votes_counter.most_common(1)[0][0]\n",
    "\n",
    "\n"
   ]
  },
  {
   "cell_type": "code",
   "execution_count": 8,
   "id": "efde2fc1",
   "metadata": {},
   "outputs": [
    {
     "name": "stdout",
     "output_type": "stream",
     "text": [
      "Election Results\n",
      "-------------------------\n",
      "Total Votes: 369711\n",
      "-------------------------\n",
      "Charles Casper Stockham: 23.049% (85213)\n",
      "Diana DeGette: 73.812% (272892)\n",
      "Raymon Anthony Doane: 3.139% (11606)\n",
      "-------------------------\n",
      "Winner: Diana DeGette\n",
      "-------------------------\n",
      "\n"
     ]
    }
   ],
   "source": [
    "# The total number of votes cast\n",
    "\n",
    "# A complete list of candidates who received votes\n",
    "\n",
    "# The percentage of votes each candidate won\n",
    "\n",
    "# The total number of votes each candidate won\n",
    "\n",
    "# The winner of the election based on popular vote\n",
    "\n",
    "\n",
    "output = \"Election Results\\n\"\n",
    "output += \"-------------------------\\n\"\n",
    "output += f\"Total Votes: {total_votes}\\n\"\n",
    "output += \"-------------------------\\n\"\n",
    "\n",
    "for candidate, votes in votes_counter.items():\n",
    "    percentage = (votes / total_votes) * 100\n",
    "    output += f\"{candidate}: {percentage:.3f}% ({votes})\\n\"\n",
    "\n",
    "output += \"-------------------------\\n\"\n",
    "output += f\"Winner: {winner}\\n\"\n",
    "output += \"-------------------------\\n\"\n",
    "\n",
    "print(output)\n",
    "\n",
    "with open(\"analysis/election_results.txt\", 'w') as txt_file:\n",
    "    txt_file.write(output)\n",
    "\n"
   ]
  },
  {
   "cell_type": "code",
   "execution_count": null,
   "id": "c3b98afa",
   "metadata": {},
   "outputs": [],
   "source": []
  },
  {
   "cell_type": "code",
   "execution_count": null,
   "id": "3dea8058",
   "metadata": {},
   "outputs": [],
   "source": []
  },
  {
   "cell_type": "code",
   "execution_count": null,
   "id": "f2364ae5",
   "metadata": {},
   "outputs": [],
   "source": []
  },
  {
   "cell_type": "code",
   "execution_count": null,
   "id": "e84a832c",
   "metadata": {},
   "outputs": [],
   "source": []
  },
  {
   "cell_type": "code",
   "execution_count": null,
   "id": "ae252124",
   "metadata": {},
   "outputs": [],
   "source": []
  }
 ],
 "metadata": {
  "kernelspec": {
   "display_name": "Python 3 (ipykernel)",
   "language": "python",
   "name": "python3"
  },
  "language_info": {
   "codemirror_mode": {
    "name": "ipython",
    "version": 3
   },
   "file_extension": ".py",
   "mimetype": "text/x-python",
   "name": "python",
   "nbconvert_exporter": "python",
   "pygments_lexer": "ipython3",
   "version": "3.11.4"
  }
 },
 "nbformat": 4,
 "nbformat_minor": 5
}
